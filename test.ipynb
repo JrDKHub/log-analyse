{
 "cells": [
  {
   "cell_type": "code",
   "execution_count": 11,
   "metadata": {},
   "outputs": [
    {
     "data": {
      "text/html": [
       "<div>\n",
       "<style scoped>\n",
       "    .dataframe tbody tr th:only-of-type {\n",
       "        vertical-align: middle;\n",
       "    }\n",
       "\n",
       "    .dataframe tbody tr th {\n",
       "        vertical-align: top;\n",
       "    }\n",
       "\n",
       "    .dataframe thead th {\n",
       "        text-align: right;\n",
       "    }\n",
       "</style>\n",
       "<table border=\"1\" class=\"dataframe\">\n",
       "  <thead>\n",
       "    <tr style=\"text-align: right;\">\n",
       "      <th></th>\n",
       "      <th>Date/Time</th>\n",
       "      <th>User-Agent</th>\n",
       "      <th>URL</th>\n",
       "      <th>Status</th>\n",
       "      <th>Bytes Sent</th>\n",
       "    </tr>\n",
       "  </thead>\n",
       "  <tbody>\n",
       "    <tr>\n",
       "      <th>0</th>\n",
       "      <td>2023-12-21 12:30:15</td>\n",
       "      <td>Mozilla/5.0 (Windows NT 10.0; Win64; x64) Appl...</td>\n",
       "      <td>/page1.html</td>\n",
       "      <td>200</td>\n",
       "      <td>3589</td>\n",
       "    </tr>\n",
       "  </tbody>\n",
       "</table>\n",
       "</div>"
      ],
      "text/plain": [
       "             Date/Time                                         User-Agent  \\\n",
       "0  2023-12-21 12:30:15  Mozilla/5.0 (Windows NT 10.0; Win64; x64) Appl...   \n",
       "\n",
       "           URL  Status  Bytes Sent  \n",
       "0  /page1.html     200        3589  "
      ]
     },
     "execution_count": 11,
     "metadata": {},
     "output_type": "execute_result"
    }
   ],
   "source": [
    "import pandas as pd\n",
    "from io import StringIO\n",
    "\n",
    "# extract csv from text file and read it as dataframe\n",
    "f = open(\"Logs d'application - Feuille 1.csv\", \"r\")\n",
    "f.read()\n",
    "\n",
    "import pandas as pd\n",
    "from io import StringIO\n",
    "\n",
    "# Your CSV data\n",
    "csv_data = '''\"Date/Time\",\"User-Agent\",\"URL\",\"Status\",\"Bytes Sent\"\n",
    "\"2023-12-21 12:30:15\",\"Mozilla/5.0 (Windows NT 10.0; Win64; x64) AppleWebKit/537.36 (KHTML, like Gecko) Chrome/96.0.4664.110 Safari/537.36\",\"/page1.html\",200,3589'''\n",
    "\n",
    "\n",
    "# Use StringIO to create a file-like object\n",
    "csv_file = StringIO(csv_data)\n",
    "\n",
    "# Read CSV using pandas\n",
    "df = pd.read_csv(csv_file, quotechar='\"', delimiter=',', skipinitialspace=True)\n",
    "\n",
    "# Display the DataFrame\n",
    "df\n",
    "\n"
   ]
  },
  {
   "cell_type": "code",
   "execution_count": 12,
   "metadata": {},
   "outputs": [
    {
     "name": "stdout",
     "output_type": "stream",
     "text": [
      "          Date/Time,User-Agent,URL,Status,Bytes Sent\n",
      "0  2023-12-21 12:30:15,\"Mozilla/5.0 (Windows NT 1...\n"
     ]
    }
   ],
   "source": [
    "import pandas as pd\n",
    "\n",
    "# Specify the path to your CSV file\n",
    "csv_file_path = \"Logs d'application - Feuille 1.csv\"\n",
    "\n",
    "# Read CSV using pandas\n",
    "df = pd.read_csv(csv_file_path, quotechar='\"', delimiter=',', skipinitialspace=True)\n",
    "\n",
    "# Display the DataFrame\n",
    "print(df)\n"
   ]
  },
  {
   "cell_type": "code",
   "execution_count": 13,
   "metadata": {},
   "outputs": [
    {
     "name": "stdout",
     "output_type": "stream",
     "text": [
      "                                                                                                                     Date/Time,User-Agent,URL,Status,Bytes Sent\n",
      "2023-12-21 12:30:15,\"Mozilla/5.0 (Windows NT 10...  like Gecko) Chrome/96.0.4664.110 Safari/537.36\"\" /page1.html 200                                      3589\"\n"
     ]
    },
    {
     "ename": "",
     "evalue": "",
     "output_type": "error",
     "traceback": [
      "\u001b[1;31mThe Kernel crashed while executing code in the the current cell or a previous cell. Please review the code in the cell(s) to identify a possible cause of the failure. Click <a href='https://aka.ms/vscodeJupyterKernelCrash'>here</a> for more info. View Jupyter <a href='command:jupyter.viewOutput'>log</a> for further details."
     ]
    }
   ],
   "source": [
    "import pandas as pd\n",
    "import csv\n",
    "\n",
    "# Specify the path to your CSV file\n",
    "csv_file_path = \"Logs d'application - Feuille 1.csv\"\n",
    "\n",
    "# Read CSV using pandas and csv module\n",
    "with open(csv_file_path, 'r') as file:\n",
    "    # Sniff to automatically detect the format\n",
    "    dialect = csv.Sniffer().sniff(file.read(1024))\n",
    "    file.seek(0)\n",
    "\n",
    "    # Read CSV using pandas with the detected dialect\n",
    "    df = pd.read_csv(file, dialect=dialect)\n",
    "\n",
    "# Display the DataFrame\n",
    "print(df)\n"
   ]
  }
 ],
 "metadata": {
  "kernelspec": {
   "display_name": "bob",
   "language": "python",
   "name": "python3"
  },
  "language_info": {
   "codemirror_mode": {
    "name": "ipython",
    "version": 3
   },
   "file_extension": ".py",
   "mimetype": "text/x-python",
   "name": "python",
   "nbconvert_exporter": "python",
   "pygments_lexer": "ipython3",
   "version": "3.11.4"
  }
 },
 "nbformat": 4,
 "nbformat_minor": 2
}
